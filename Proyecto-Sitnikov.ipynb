{
 "cells": [
  {
   "cell_type": "markdown",
   "metadata": {},
   "source": [
    "# Problema de Sitnikov\n",
    "#### Integrantes\n",
    "* García Fragoso Ángeles / Angeles GF\n",
    "* López Solís Luz Rebeca / RebeLopez\n",
    "* Martínez García Ana Sofía / Anasof-Martinez\n",
    "* Mosso Mendoza Evelyn Abigail / AbiiMosso"
   ]
  },
  {
   "cell_type": "markdown",
   "metadata": {},
   "source": [
    "# Campo vectorial de los tres cuerpos"
   ]
  },
  {
   "cell_type": "markdown",
   "metadata": {},
   "source": [
    "$$\\ddot{\\vec{r}}_{1} = \\dot{\\vec{V}}_{1} = -G \\left( \\dfrac{m_2(\\vec{r}_{1} - \\vec{r}_{2})}{||\\vec{r}_{1} - \\vec{r}_{2}||^3} + \\dfrac{m_3(\\vec{r}_{1} - \\vec{r}_{3})}{||\\vec{r}_{1} - \\vec{r}_{3}||^{3}} \\right) $$\n",
    "\n",
    "$$\\ddot{\\vec{r}}_{2} = \\dot{\\vec{V}}_{2} = -G \\left( \\dfrac{m_1(\\vec{r}_{2} - \\vec{r}_{1})}{||\\vec{r}_{1} - \\vec{r}_{2}||^3} + \\dfrac{m_3(\\vec{r}_{2} - \\vec{r}_{3})}{||\\vec{r}_{2} - \\vec{r}_{3}||^{3}}\\right) $$\n",
    "\n",
    "$$\\ddot{\\vec{r}}_{3} = \\dot{\\vec{V}}_{3} = -G \\left( \\dfrac{m_1(\\vec{r}_{3} - \\vec{r}_{1})}{||\\vec{r}_{1} - \\vec{r}_{3}||^3} + \\dfrac{m_2(\\vec{r}_{3} - \\vec{r}_{2})}{||\\vec{r}_{2} - \\vec{r}_{3}||^{3}}\\right) $$"
   ]
  },
  {
   "cell_type": "markdown",
   "metadata": {},
   "source": [
    "# Campo Vectorial de Sitnikov"
   ]
  },
  {
   "cell_type": "markdown",
   "metadata": {},
   "source": [
    "$$ \\dot{x}_1 = V_x $$\n",
    "\n",
    "$$ \\dot{y}_2 = V_y $$\n",
    "\n",
    "$$ \\dot{z}_3 = V_z $$\n",
    "\n",
    "$$\\dot{V}_x= -\\dfrac{Gmx_1}{4(x_1^2 + y_1^2)^{3/2}}$$\n",
    "\n",
    "$$\\dot{V}_y= -\\dfrac{Gmy_1}{4(x_1^2 + y_1^2)^{3/2}}$$\n",
    "\n",
    "$$\\dot{V}_z= -\\dfrac{2Gmz_3}{(x_1^2 + y_1^2 + z_3^2)^{3/2}}$$"
   ]
  },
  {
   "cell_type": "code",
   "execution_count": 1,
   "metadata": {},
   "outputs": [],
   "source": [
    "#Importamos las paqueterias necesarias\n",
    "import numpy as np #vectores \n",
    "import matplotlib.pyplot as plt #gráficas\n",
    "from mpl_toolkits.mplot3d import Axes3D #gráfica 3D\n",
    "from scipy.integrate import odeint #integración\n",
    "from scipy.constants import G #constante de gravedad\n",
    "%matplotlib inline"
   ]
  },
  {
   "cell_type": "code",
   "execution_count": 2,
   "metadata": {},
   "outputs": [],
   "source": [
    "def distance(u, v): \n",
    "    '''distancia entre los dos cuerpos primarios''' \n",
    "    return np.sqrt((u[0] - v[0])**2 + (u[1] - v[1])**2 + (u[2] - v[2])**2 ) #fórmula de distancia"
   ]
  },
  {
   "cell_type": "markdown",
   "metadata": {},
   "source": []
  },
  {
   "cell_type": "markdown",
   "metadata": {},
   "source": [
    "def bodys(y, t, masses): #considerando posición, tiempo y masa\n",
    "    '''cond_init''' \n",
    "    \n",
    "#Se define la función de Sitnikov\n",
    "\n",
    "    out = np.zeros(18)\n",
    "    \n",
    "    r_1, r_2, r_3 = y[0:3], y[3:6], y[6:9] #posición de los cuerpos\n",
    "    V_1, V_2, V_3 = y[9:12], y[12:15], y[15:18] #velocidad\n",
    "    aux1 = (r_1 - r_2)/(distance(r_1, r_2))**3 \n",
    "    aux2 = (r_1 - r_3)/(distance(r_1, r_3))**3\n",
    "    aux3 = (r_2 - r_3)/(distance(r_2, r_3))**3\n",
    "    Vdot_1 = -G*(masses[1]*aux1 + masses[2]*aux2)\n",
    "    Vdot_2 = -G*(-masses[0]*aux1 + masses[2]*aux3)\n",
    "    Vdot_3 = -G*(-masses[0]*aux2 - masses[1]*aux3)\n",
    "    \n",
    "    index = 0\n",
    "    \n",
    "    for j in (V_1, V_2, V_3, Vdot_1, Vdot_2, Vdot_3):\n",
    "        for k in j:\n",
    "            out[index] = k\n",
    "            \n",
    "            index = index  + 1\n",
    "    \n",
    "    return out"
   ]
  },
  {
   "cell_type": "code",
   "execution_count": 3,
   "metadata": {},
   "outputs": [],
   "source": [
    "def three_body(y, t, masses): #considerando posición, tiempo y masa\n",
    "    '''cond_init'''\n",
    "    \n",
    "#Se define la función de los tres cuerpos\n",
    "\n",
    "    out = np.zeros(18) #total de valores del problema\n",
    "    \n",
    "    r_1, r_2, r_3 = y[0:3], y[3:6], y[6:9] #posición\n",
    "    V_1, V_2, V_3 = y[9:12], y[12:15], y[15:18] #velocidad\n",
    "    aux1 = (r_1 - r_2)/(distance(r_1, r_2))**3 \n",
    "    aux2 = (r_1 - r_3)/(distance(r_1, r_3))**3\n",
    "    aux3 = (r_2 - r_3)/(distance(r_2, r_3))**3\n",
    "    Vdot_1 = -(masses[1]*aux1 + masses[2]*aux2) #primera derivada\n",
    "    Vdot_2 = -(-masses[0]*aux1 + masses[2]*aux3)\n",
    "    Vdot_3 = -(-masses[0]*aux2 - masses[1]*aux3)\n",
    "    \n",
    "    index = 0 #contador\n",
    "    \n",
    "    for j in (V_1, V_2, V_3, Vdot_1, Vdot_2, Vdot_3): #se crea ciclo\n",
    "        for k in j:\n",
    "            out[index] = k\n",
    "            \n",
    "            index = index  + 1\n",
    "    \n",
    "    return out"
   ]
  },
  {
   "cell_type": "code",
   "execution_count": 4,
   "metadata": {},
   "outputs": [],
   "source": [
    "m_123 = np.array([1, 1, 0]) #valores de la masa de los tres cuerpos"
   ]
  },
  {
   "cell_type": "code",
   "execution_count": 5,
   "metadata": {},
   "outputs": [
    {
     "data": {
      "text/plain": [
       "array([1, 1, 0])"
      ]
     },
     "execution_count": 5,
     "metadata": {},
     "output_type": "execute_result"
    }
   ],
   "source": [
    "m_123"
   ]
  },
  {
   "cell_type": "code",
   "execution_count": 6,
   "metadata": {},
   "outputs": [],
   "source": [
    "cond_int= np.array([1,0,0, -1,0,0, 0,0,0.5, 0.0,.66,0.0,  0.0,-.66,0.0 , 0.0,0.0,0.0]) #agregamos las condiciones iniciales"
   ]
  },
  {
   "cell_type": "code",
   "execution_count": 7,
   "metadata": {},
   "outputs": [],
   "source": [
    "t = np.linspace(0, 100, 1001) #variable de tiempo que tardará en integrar"
   ]
  },
  {
   "cell_type": "code",
   "execution_count": 8,
   "metadata": {},
   "outputs": [],
   "source": [
    "out = odeint(three_body, cond_int, t, args = (m_123,)) #se integra la función de los tres cuerpos con sus respectivios valores"
   ]
  },
  {
   "cell_type": "code",
   "execution_count": 9,
   "metadata": {},
   "outputs": [
    {
     "data": {
      "text/plain": [
       "[<matplotlib.lines.Line2D at 0x15dde41d3d0>]"
      ]
     },
     "execution_count": 9,
     "metadata": {},
     "output_type": "execute_result"
    },
    {
     "data": {
      "image/png": "[encoded data removed]",
      "text/plain": [
       "<Figure size 432x288 with 1 Axes>"
      ]
     },
     "metadata": {
      "needs_background": "light"
     },
     "output_type": "display_data"
    }
   ],
   "source": [
    "#Graficamos la trayectoria de los cuerpos primarios\n",
    "plt.plot(out[:,0],out[:,1], color ='g')\n",
    "plt.plot(out[-1,0],out[-1,1], 'go')\n",
    "plt.plot(out[:,3],out[:,4], color ='b')\n",
    "plt.plot(out[-1,3],out[-1,4], 'bo')"
   ]
  },
  {
   "cell_type": "code",
   "execution_count": 10,
   "metadata": {},
   "outputs": [
    {
     "data": {
      "text/plain": [
       "[<matplotlib.lines.Line2D at 0x15dde4ac820>]"
      ]
     },
     "execution_count": 10,
     "metadata": {},
     "output_type": "execute_result"
    },
    {
     "data": {
      "image/png": "[encoded data removed]",
      "text/plain": [
       "<Figure size 432x288 with 1 Axes>"
      ]
     },
     "metadata": {
      "needs_background": "light"
     },
     "output_type": "display_data"
    }
   ],
   "source": [
    "plt.plot(t,out[:,8], color ='m' ) #graficamos la trayectoria del tercer cuerpo, que oscila en el eje z"
   ]
  },
  {
   "cell_type": "code",
   "execution_count": 11,
   "metadata": {},
   "outputs": [
    {
     "data": {
      "text/plain": [
       "[<mpl_toolkits.mplot3d.art3d.Line3D at 0x15dde524760>]"
      ]
     },
     "execution_count": 11,
     "metadata": {},
     "output_type": "execute_result"
    },
    {
     "data": {
      "image/png": "[encoded data removed]",
      "text/plain": [
       "<Figure size 432x288 with 1 Axes>"
      ]
     },
     "metadata": {
      "needs_background": "light"
     },
     "output_type": "display_data"
    }
   ],
   "source": [
    "ax = plt.axes(projection='3d') #graficamos en tercera dimensión\n",
    "\n",
    "zline = np.linspace(0, 15, 1000)\n",
    "xline = np.sin(zline)\n",
    "yline = np.cos(zline)\n",
    "ax.plot3D(out[:,0],out[:,1], out[:,2], 'green') #primer cuerpo\n",
    "ax.plot3D(out[:,3],out[:,4], out[:,5], 'blue') #segundo cuerpo\n",
    "ax.plot3D(out[:,6],out[:,7], out[:,8], 'red') #tercer cuerpo"
   ]
  },
  {
   "cell_type": "code",
   "execution_count": 12,
   "metadata": {},
   "outputs": [],
   "source": [
    "#importamos paqueterias\n",
    "from mpl_toolkits.mplot3d import Axes3D #graficar en 3D\n",
    "from matplotlib import animation, rc #animación de los tres cuerpos\n",
    "from IPython.display import HTML #reproducir como archivo de python\n",
    "%matplotlib inline"
   ]
  },
  {
   "cell_type": "code",
   "execution_count": 13,
   "metadata": {},
   "outputs": [],
   "source": [
    "#variable del primer cuerpo\n",
    "trayectorias=[]\n",
    "trayectorias.append([out[:,0],out[:,1], out[:,2]])"
   ]
  },
  {
   "cell_type": "code",
   "execution_count": 14,
   "metadata": {},
   "outputs": [],
   "source": [
    "#varibale del segundo cuerpo\n",
    "trayectorias2=[]\n",
    "trayectorias2.append([out[:,3],out[:,4], out[:,5]])"
   ]
  },
  {
   "cell_type": "code",
   "execution_count": 15,
   "metadata": {},
   "outputs": [],
   "source": [
    "#varible del tercer cuerpo\n",
    "trayectorias3=[]\n",
    "trayectorias3.append([out[:,6],out[:,7], out[:,8]])"
   ]
  },
  {
   "cell_type": "code",
   "execution_count": 16,
   "metadata": {},
   "outputs": [
    {
     "ename": "NotImplementedError",
     "evalue": "It is not currently possible to manually set the aspect on 3D axes",
     "output_type": "error",
     "traceback": [
      "\u001b[1;31m---------------------------------------------------------------------------\u001b[0m",
      "\u001b[1;31mNotImplementedError\u001b[0m                       Traceback (most recent call last)",
      "\u001b[1;32m<ipython-input-16-24f990393840>\u001b[0m in \u001b[0;36m<module>\u001b[1;34m\u001b[0m\n\u001b[0;32m     25\u001b[0m \u001b[0mline\u001b[0m\u001b[1;33m,\u001b[0m \u001b[1;33m=\u001b[0m \u001b[0max\u001b[0m\u001b[1;33m.\u001b[0m\u001b[0mplot\u001b[0m\u001b[1;33m(\u001b[0m\u001b[1;33m[\u001b[0m\u001b[1;33m]\u001b[0m\u001b[1;33m,\u001b[0m \u001b[1;33m[\u001b[0m\u001b[1;33m]\u001b[0m\u001b[1;33m,\u001b[0m\u001b[1;33m[\u001b[0m\u001b[1;33m]\u001b[0m\u001b[1;33m,\u001b[0m\u001b[1;34m'r-'\u001b[0m\u001b[1;33m)\u001b[0m\u001b[1;33m\u001b[0m\u001b[1;33m\u001b[0m\u001b[0m\n\u001b[0;32m     26\u001b[0m \u001b[0mparticle\u001b[0m\u001b[1;33m,\u001b[0m \u001b[1;33m=\u001b[0m \u001b[0max\u001b[0m\u001b[1;33m.\u001b[0m\u001b[0mplot\u001b[0m\u001b[1;33m(\u001b[0m\u001b[1;33m[\u001b[0m\u001b[1;33m]\u001b[0m\u001b[1;33m,\u001b[0m \u001b[1;33m[\u001b[0m\u001b[1;33m]\u001b[0m\u001b[1;33m,\u001b[0m \u001b[1;33m[\u001b[0m\u001b[1;33m]\u001b[0m\u001b[1;33m,\u001b[0m \u001b[1;34m'r.'\u001b[0m\u001b[1;33m,\u001b[0m \u001b[0mmarkersize\u001b[0m\u001b[1;33m=\u001b[0m\u001b[1;36m10.0\u001b[0m\u001b[1;33m)\u001b[0m\u001b[1;33m\u001b[0m\u001b[1;33m\u001b[0m\u001b[0m\n\u001b[1;32m---> 27\u001b[1;33m \u001b[0mplt\u001b[0m\u001b[1;33m.\u001b[0m\u001b[0mgca\u001b[0m\u001b[1;33m(\u001b[0m\u001b[1;33m)\u001b[0m\u001b[1;33m.\u001b[0m\u001b[0mset_aspect\u001b[0m\u001b[1;33m(\u001b[0m\u001b[1;34m'equal'\u001b[0m\u001b[1;33m,\u001b[0m \u001b[0madjustable\u001b[0m\u001b[1;33m=\u001b[0m\u001b[1;34m'box'\u001b[0m\u001b[1;33m)\u001b[0m\u001b[1;33m\u001b[0m\u001b[1;33m\u001b[0m\u001b[0m\n\u001b[0m\u001b[0;32m     28\u001b[0m \u001b[1;33m\u001b[0m\u001b[0m\n\u001b[0;32m     29\u001b[0m \u001b[0mline2\u001b[0m\u001b[1;33m,\u001b[0m \u001b[1;33m=\u001b[0m \u001b[0max\u001b[0m\u001b[1;33m.\u001b[0m\u001b[0mplot\u001b[0m\u001b[1;33m(\u001b[0m\u001b[1;33m[\u001b[0m\u001b[1;33m]\u001b[0m\u001b[1;33m,\u001b[0m \u001b[1;33m[\u001b[0m\u001b[1;33m]\u001b[0m\u001b[1;33m,\u001b[0m\u001b[1;33m[\u001b[0m\u001b[1;33m]\u001b[0m\u001b[1;33m,\u001b[0m\u001b[1;34m'b-'\u001b[0m\u001b[1;33m)\u001b[0m\u001b[1;33m\u001b[0m\u001b[1;33m\u001b[0m\u001b[0m\n",
      "\u001b[1;32m~\\anaconda3\\lib\\site-packages\\matplotlib\\axes\\_base.py\u001b[0m in \u001b[0;36mset_aspect\u001b[1;34m(self, aspect, adjustable, anchor, share)\u001b[0m\n\u001b[0;32m   1261\u001b[0m \u001b[1;33m\u001b[0m\u001b[0m\n\u001b[0;32m   1262\u001b[0m         \u001b[1;32mif\u001b[0m \u001b[1;33m(\u001b[0m\u001b[1;32mnot\u001b[0m \u001b[0mcbook\u001b[0m\u001b[1;33m.\u001b[0m\u001b[0m_str_equal\u001b[0m\u001b[1;33m(\u001b[0m\u001b[0maspect\u001b[0m\u001b[1;33m,\u001b[0m \u001b[1;34m'auto'\u001b[0m\u001b[1;33m)\u001b[0m\u001b[1;33m)\u001b[0m \u001b[1;32mand\u001b[0m \u001b[0mself\u001b[0m\u001b[1;33m.\u001b[0m\u001b[0mname\u001b[0m \u001b[1;33m==\u001b[0m \u001b[1;34m'3d'\u001b[0m\u001b[1;33m:\u001b[0m\u001b[1;33m\u001b[0m\u001b[1;33m\u001b[0m\u001b[0m\n\u001b[1;32m-> 1263\u001b[1;33m             raise NotImplementedError(\n\u001b[0m\u001b[0;32m   1264\u001b[0m                 \u001b[1;34m'It is not currently possible to manually set the aspect '\u001b[0m\u001b[1;33m\u001b[0m\u001b[1;33m\u001b[0m\u001b[0m\n\u001b[0;32m   1265\u001b[0m                 'on 3D axes')\n",
      "\u001b[1;31mNotImplementedError\u001b[0m: It is not currently possible to manually set the aspect on 3D axes"
     ]
    }
   ],
   "source": [
    "%%capture\n",
    "\n",
    "#definimos los valores de posición para los tres cuerpos\n",
    "x=np.array(trayectorias[0][0])\n",
    "y=np.array(trayectorias[0][1])\n",
    "z=np.array(trayectorias[0][2])\n",
    "\n",
    "x2=np.array(trayectorias2[0][0])\n",
    "y2=np.array(trayectorias2[0][1])\n",
    "z2=np.array(trayectorias2[0][2])\n",
    "\n",
    "x3=np.array(trayectorias3[0][0])\n",
    "y3=np.array(trayectorias3[0][1])\n",
    "z3=np.array(trayectorias3[0][2])\n",
    "\n",
    "#variable para graficar\n",
    "fig = plt.figure()\n",
    "fig = plt.figure(figsize=(8,8))\n",
    "\n",
    "ax = fig.add_axes([0, 0, 1, 1], projection='3d')\n",
    "\n",
    "ax.set_xlim((-6.5, 6.5))\n",
    "ax.set_ylim((-2.5, 2.5))\n",
    "ax.set_zlim((-2, 1.5))\n",
    "\n",
    "#A partir se toman variables para la animación\n",
    "line, = ax.plot([], [],[],'r-')\n",
    "particle, = ax.plot([], [], [], 'r.', markersize=10.0)\n",
    "plt.gca().set_aspect('equal', adjustable='box')\n",
    "\n",
    "line2, = ax.plot([], [],[],'b-')\n",
    "particle2, = ax.plot([], [], [], 'b.', markersize=10.0)\n",
    "plt.gca().set_aspect('equal', adjustable='box')\n",
    "\n",
    "line3, = ax.plot([], [],[],'g-')\n",
    "particle3, = ax.plot([], [], [], 'g.', markersize=10.0)\n",
    "plt.gca().set_aspect('equal', adjustable='box')\n",
    "\n",
    "def init_2():\n",
    "    line.set_data([], [])\n",
    "    line.set_3d_properties([])\n",
    "    particle.set_data([],[])\n",
    "    particle.set_3d_properties([])\n",
    "    \n",
    "    line2.set_data([], [])\n",
    "    line2.set_3d_properties([])\n",
    "    particle2.set_data([],[])\n",
    "    particle2.set_3d_properties([])\n",
    "    \n",
    "    line3.set_data([], [])\n",
    "    line3.set_3d_properties([])\n",
    "    particle3.set_data([],[])\n",
    "    particle3.set_3d_properties([])\n",
    "    return particle, particle2, particle3\n",
    "\n",
    "def animate_2(i):\n",
    "    line.set_data(x[:i], y[:i])\n",
    "    line.set_3d_properties(z[:i])\n",
    "    particle.set_data(x[i],y[i])\n",
    "    particle.set_3d_properties(z[i])\n",
    "    ax.view_init(30, 0.3 * 2*i)\n",
    "    \n",
    "    \n",
    "    line2.set_data(x2[:i], y2[:i])\n",
    "    line2.set_3d_properties(z2[:i])\n",
    "    particle2.set_data(x2[i],y2[i])\n",
    "    particle2.set_3d_properties(z2[i])\n",
    "    ax.view_init(30, 0.3 * 2*i)\n",
    "    \n",
    "    line3.set_data(x3[:i], y3[:i])\n",
    "    line3.set_3d_properties(z3[:i])\n",
    "    particle3.set_data(x3[i],y3[i])\n",
    "    particle3.set_3d_properties(z3[i])\n",
    "    ax.view_init(30, 0.3 * 2*i)\n",
    "    return particle, particle2, particle3\n",
    "\n",
    "pelicula=animation.FuncAnimation(fig, animate_2, init_func=init_2,\n",
    "                            frames=len(t), interval=60, blit=True)"
   ]
  },
  {
   "cell_type": "code",
   "execution_count": 17,
   "metadata": {},
   "outputs": [
    {
     "ename": "NameError",
     "evalue": "name 'pelicula' is not defined",
     "output_type": "error",
     "traceback": [
      "\u001b[1;31m---------------------------------------------------------------------------\u001b[0m",
      "\u001b[1;31mNameError\u001b[0m                                 Traceback (most recent call last)",
      "\u001b[1;32m<ipython-input-17-bfdb3b648b65>\u001b[0m in \u001b[0;36m<module>\u001b[1;34m\u001b[0m\n\u001b[1;32m----> 1\u001b[1;33m \u001b[0mHTML\u001b[0m\u001b[1;33m(\u001b[0m\u001b[0mpelicula\u001b[0m\u001b[1;33m.\u001b[0m\u001b[0mto_html5_video\u001b[0m\u001b[1;33m(\u001b[0m\u001b[1;33m)\u001b[0m\u001b[1;33m)\u001b[0m\u001b[1;33m\u001b[0m\u001b[1;33m\u001b[0m\u001b[0m\n\u001b[0m",
      "\u001b[1;31mNameError\u001b[0m: name 'pelicula' is not defined"
     ]
    }
   ],
   "source": [
    "HTML(pelicula.to_html5_video()) #crea animación"
   ]
  },
  {
   "cell_type": "code",
   "execution_count": null,
   "metadata": {},
   "outputs": [],
   "source": []
  },
  {
   "cell_type": "markdown",
   "metadata": {},
   "source": [
    "# Se intentó exprimentar con la animación"
   ]
  },
  {
   "cell_type": "code",
   "execution_count": 18,
   "metadata": {},
   "outputs": [],
   "source": [
    "import matplotlib.animation as animation\n",
    "from IPython.display import HTML"
   ]
  },
  {
   "cell_type": "code",
   "execution_count": 19,
   "metadata": {},
   "outputs": [
    {
     "data": {
      "image/png": "[encoded data removed]",
      "text/plain": [
       "<Figure size 432x288 with 1 Axes>"
      ]
     },
     "metadata": {
      "needs_background": "light"
     },
     "output_type": "display_data"
    }
   ],
   "source": [
    "fig, ax = plt.subplots()\n",
    "\n",
    "ax.set_xlim(( 0, 2))\n",
    "ax.set_ylim((-2, 2))\n",
    "\n",
    "line, = ax.plot([], [], lw=2)"
   ]
  },
  {
   "cell_type": "code",
   "execution_count": 20,
   "metadata": {},
   "outputs": [],
   "source": [
    "def init():\n",
    "    line.set_data([], [])\n",
    "    return (line,)"
   ]
  },
  {
   "cell_type": "code",
   "execution_count": 21,
   "metadata": {},
   "outputs": [],
   "source": [
    "def animate(i):\n",
    "    x = np.linspace(0, 2, 1000)\n",
    "    y = np.sin(2 * np.pi * (x - 0.01 * i))\n",
    "    line.set_data(x, y)\n",
    "    return (line,)"
   ]
  },
  {
   "cell_type": "code",
   "execution_count": 22,
   "metadata": {},
   "outputs": [],
   "source": [
    "anim = animation.FuncAnimation(fig, animate, init_func=init,\n",
    "                               frames=100, interval=20, blit=True)"
   ]
  },
  {
   "cell_type": "code",
   "execution_count": 23,
   "metadata": {},
   "outputs": [
    {
     "ename": "RuntimeError",
     "evalue": "Requested MovieWriter (ffmpeg) not available",
     "output_type": "error",
     "traceback": [
      "\u001b[1;31m---------------------------------------------------------------------------\u001b[0m",
      "\u001b[1;31mRuntimeError\u001b[0m                              Traceback (most recent call last)",
      "\u001b[1;32m<ipython-input-23-f885f4acf935>\u001b[0m in \u001b[0;36m<module>\u001b[1;34m\u001b[0m\n\u001b[1;32m----> 1\u001b[1;33m \u001b[0mHTML\u001b[0m\u001b[1;33m(\u001b[0m\u001b[0manim\u001b[0m\u001b[1;33m.\u001b[0m\u001b[0mto_html5_video\u001b[0m\u001b[1;33m(\u001b[0m\u001b[1;33m)\u001b[0m\u001b[1;33m)\u001b[0m\u001b[1;33m\u001b[0m\u001b[1;33m\u001b[0m\u001b[0m\n\u001b[0m",
      "\u001b[1;32m~\\anaconda3\\lib\\site-packages\\matplotlib\\animation.py\u001b[0m in \u001b[0;36mto_html5_video\u001b[1;34m(self, embed_limit)\u001b[0m\n\u001b[0;32m   1326\u001b[0m                 \u001b[1;31m# We create a writer manually so that we can get the\u001b[0m\u001b[1;33m\u001b[0m\u001b[1;33m\u001b[0m\u001b[1;33m\u001b[0m\u001b[0m\n\u001b[0;32m   1327\u001b[0m                 \u001b[1;31m# appropriate size for the tag\u001b[0m\u001b[1;33m\u001b[0m\u001b[1;33m\u001b[0m\u001b[1;33m\u001b[0m\u001b[0m\n\u001b[1;32m-> 1328\u001b[1;33m                 \u001b[0mWriter\u001b[0m \u001b[1;33m=\u001b[0m \u001b[0mwriters\u001b[0m\u001b[1;33m[\u001b[0m\u001b[0mrcParams\u001b[0m\u001b[1;33m[\u001b[0m\u001b[1;34m'animation.writer'\u001b[0m\u001b[1;33m]\u001b[0m\u001b[1;33m]\u001b[0m\u001b[1;33m\u001b[0m\u001b[1;33m\u001b[0m\u001b[0m\n\u001b[0m\u001b[0;32m   1329\u001b[0m                 writer = Writer(codec='h264',\n\u001b[0;32m   1330\u001b[0m                                 \u001b[0mbitrate\u001b[0m\u001b[1;33m=\u001b[0m\u001b[0mrcParams\u001b[0m\u001b[1;33m[\u001b[0m\u001b[1;34m'animation.bitrate'\u001b[0m\u001b[1;33m]\u001b[0m\u001b[1;33m,\u001b[0m\u001b[1;33m\u001b[0m\u001b[1;33m\u001b[0m\u001b[0m\n",
      "\u001b[1;32m~\\anaconda3\\lib\\site-packages\\matplotlib\\animation.py\u001b[0m in \u001b[0;36m__getitem__\u001b[1;34m(self, name)\u001b[0m\n\u001b[0;32m    162\u001b[0m         \u001b[1;32mif\u001b[0m \u001b[0mself\u001b[0m\u001b[1;33m.\u001b[0m\u001b[0mis_available\u001b[0m\u001b[1;33m(\u001b[0m\u001b[0mname\u001b[0m\u001b[1;33m)\u001b[0m\u001b[1;33m:\u001b[0m\u001b[1;33m\u001b[0m\u001b[1;33m\u001b[0m\u001b[0m\n\u001b[0;32m    163\u001b[0m             \u001b[1;32mreturn\u001b[0m \u001b[0mself\u001b[0m\u001b[1;33m.\u001b[0m\u001b[0m_registered\u001b[0m\u001b[1;33m[\u001b[0m\u001b[0mname\u001b[0m\u001b[1;33m]\u001b[0m\u001b[1;33m\u001b[0m\u001b[1;33m\u001b[0m\u001b[0m\n\u001b[1;32m--> 164\u001b[1;33m         \u001b[1;32mraise\u001b[0m \u001b[0mRuntimeError\u001b[0m\u001b[1;33m(\u001b[0m\u001b[1;34mf\"Requested MovieWriter ({name}) not available\"\u001b[0m\u001b[1;33m)\u001b[0m\u001b[1;33m\u001b[0m\u001b[1;33m\u001b[0m\u001b[0m\n\u001b[0m\u001b[0;32m    165\u001b[0m \u001b[1;33m\u001b[0m\u001b[0m\n\u001b[0;32m    166\u001b[0m \u001b[1;33m\u001b[0m\u001b[0m\n",
      "\u001b[1;31mRuntimeError\u001b[0m: Requested MovieWriter (ffmpeg) not available"
     ]
    }
   ],
   "source": [
    "HTML(anim.to_html5_video())"
   ]
  },
  {
   "cell_type": "code",
   "execution_count": null,
   "metadata": {},
   "outputs": [],
   "source": []
  }
 ],
 "metadata": {
  "kernelspec": {
   "display_name": "Python 3",
   "language": "python",
   "name": "python3"
  },
  "language_info": {
   "codemirror_mode": {
    "name": "ipython",
    "version": 3
   },
   "file_extension": ".py",
   "mimetype": "text/x-python",
   "name": "python",
   "nbconvert_exporter": "python",
   "pygments_lexer": "ipython3",
   "version": "3.8.3"
  }
 },
 "nbformat": 4,
 "nbformat_minor": 4
}
